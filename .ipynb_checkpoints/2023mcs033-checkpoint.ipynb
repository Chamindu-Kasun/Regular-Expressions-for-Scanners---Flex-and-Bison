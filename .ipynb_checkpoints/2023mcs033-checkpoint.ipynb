{
 "cells": [
  {
   "cell_type": "code",
   "execution_count": null,
   "id": "431f9f17-9135-475d-9d6f-c329bafb3da3",
   "metadata": {},
   "outputs": [],
   "source": [
    "# Question 1 - Recognise a Special String Label"
   ]
  },
  {
   "cell_type": "code",
   "execution_count": 35,
   "id": "6483e4ae-d4a0-4242-bf09-2db9265bb247",
   "metadata": {},
   "outputs": [
    {
     "name": "stdout",
     "output_type": "stream",
     "text": [
      "Overwriting assignment01_q01.l\n"
     ]
    }
   ],
   "source": [
    "%%file assignment01_q01.l\n",
    "/* assignment01_q01.l just like unix wc */\n",
    "\n",
    "%{\n",
    "#include <stdio.h>\n",
    "%}\n",
    "\n",
    "%%\n",
    "[A-Z*][a-zA-Z0-9_]*   { printf(\"Valid identifier: %s\\n\", yytext); }\n",
    ".*                    { printf(\"Invalid identifier: %s\\n\", yytext); }\n",
    "\\n                    \n",
    "%%\n",
    "\n",
    "int main(void) {\n",
    "    yylex();\n",
    "    return 0;\n",
    "}\n",
    "\n",
    "int yywrap() {\n",
    "    return 1;\n",
    "}"
   ]
  },
  {
   "cell_type": "code",
   "execution_count": 38,
   "id": "6b44c62f-de66-49a6-8115-6e8589232cc2",
   "metadata": {},
   "outputs": [],
   "source": [
    "# %%\n",
    "# Regular expression matches identifiers starting with an uppercase letter or * followed by letters, digits, or underscores\n",
    "# [A-Z\\*][a-zA-Z0-9_]*   \n",
    "\n",
    "# Match any other input (invalid identifiers)\n",
    "# .*                     \n",
    "\n",
    "# Ignore newline characters\n",
    "# \\n                    \n",
    "# %%"
   ]
  },
  {
   "cell_type": "code",
   "execution_count": 36,
   "id": "241effc8-fa70-489c-abc2-dcc9c8eba30e",
   "metadata": {},
   "outputs": [],
   "source": [
    "%%bash\n",
    "flex assignment01_q01.l\n",
    "gcc lex.yy.c "
   ]
  },
  {
   "cell_type": "code",
   "execution_count": 37,
   "id": "2dff0114-c95b-46cf-8f4f-18c2973e7c5b",
   "metadata": {},
   "outputs": [
    {
     "name": "stdout",
     "output_type": "stream",
     "text": [
      "Valid identifier: Name23\n",
      "Valid identifier: *aGe9_\n",
      "Invalid identifier: 54Saman\n",
      "Invalid identifier: saman54\n"
     ]
    }
   ],
   "source": [
    "%%bash\n",
    "./a.out\n",
    "Name23\n",
    "*aGe9_\n",
    "54Saman\n",
    "saman54"
   ]
  },
  {
   "cell_type": "code",
   "execution_count": null,
   "id": "19258cc0-2b8e-4ec7-bc75-a872aa6778d6",
   "metadata": {},
   "outputs": [],
   "source": [
    "# Question 2 - Recognise signed floating point numbers"
   ]
  },
  {
   "cell_type": "code",
   "execution_count": 119,
   "id": "2139e903-128e-4870-a646-7d845a414b8e",
   "metadata": {},
   "outputs": [
    {
     "name": "stdout",
     "output_type": "stream",
     "text": [
      "Overwriting assignment01_q02.l\n"
     ]
    }
   ],
   "source": [
    "%%file assignment01_q02.l\n",
    "/* assignment01_q02.l just like unix wc */\n",
    "\n",
    "%{\n",
    " #include <stdio.h>\n",
    "%}\n",
    "\n",
    "%%\n",
    "[+-][0-9]+\\.[0-9]+    { printf(\"Valid signed floating point number: %s\\n\", yytext); }\n",
    "[^ \\t\\n]+             { printf(\"Invalid input: %s\\n\", yytext); }\n",
    "\\n \n",
    "%%\n",
    "\n",
    "int main(void) {\n",
    "    yylex();\n",
    "    return 0;\n",
    "}\n",
    "\n",
    "int yywrap() {\n",
    "    return 1;\n",
    "}"
   ]
  },
  {
   "cell_type": "code",
   "execution_count": 120,
   "id": "ea84be41-1b3a-464e-a449-5060ddbc5f31",
   "metadata": {},
   "outputs": [],
   "source": [
    "# %%\n",
    "# Regular expression matches signed floating point numbers with a mandatory sign\n",
    "# [+-][0-9]+\\.[0-9]+    \n",
    "\n",
    "# Ignore newline characters\n",
    "# \\n                     \n",
    "\n",
    "# Match any other input (invalid floating point numbers)\n",
    "# Matches any sequence of characters that are not whitespace (spaces or tabs) or newlines\n",
    "# [^ \\t\\n]+              \n",
    "# %%"
   ]
  },
  {
   "cell_type": "code",
   "execution_count": 121,
   "id": "f6db8148-93f7-424e-a99e-4f8832a4ccbe",
   "metadata": {},
   "outputs": [],
   "source": [
    "%%bash\n",
    "flex assignment01_q02.l\n",
    "gcc lex.yy.c "
   ]
  },
  {
   "cell_type": "code",
   "execution_count": 122,
   "id": "864cb584-7adf-4f1c-948c-50f9f584561b",
   "metadata": {},
   "outputs": [
    {
     "name": "stdout",
     "output_type": "stream",
     "text": [
      "Valid signed floating point number: +9.81\n",
      " Valid signed floating point number: -456.98\n",
      "Invalid input: 456.45\n",
      "Invalid input: +56.34.22\n"
     ]
    }
   ],
   "source": [
    "%%bash\n",
    "./a.out\n",
    "+9.81 \n",
    "-456.98\n",
    "456.45\n",
    "+56.34.22"
   ]
  },
  {
   "cell_type": "code",
   "execution_count": null,
   "id": "b93bd3a2-0a46-4ff3-8527-eef3c525d40f",
   "metadata": {},
   "outputs": [],
   "source": [
    "# Question 3 - Recognise signed floating point numbers"
   ]
  },
  {
   "cell_type": "code",
   "execution_count": 144,
   "id": "b22716b1-677a-4656-b87d-1ebffc2dd350",
   "metadata": {},
   "outputs": [
    {
     "name": "stdout",
     "output_type": "stream",
     "text": [
      "Overwriting assignment01_q03.l\n"
     ]
    }
   ],
   "source": [
    "%%file assignment01_q03.l\n",
    "/* assignment01_q03.l just like unix wc */\n",
    "\n",
    "%{\n",
    "#include <stdio.h>\n",
    "%}\n",
    "\n",
    "%%\n",
    "\\/\\/[^\\n]*                   { printf(\"Single line comment: %s\\n\", yytext); }\n",
    "\\/\\*([^*]|\\*+[^*/])*\\*+\\/    { printf(\"Multi-line comment: %s\\n\", yytext); }\n",
    "\\n \n",
    ".*                           { printf(\"Invalid input: %s\\n\", yytext); }\n",
    "%%\n",
    "\n",
    "int main(void) {\n",
    "    yylex();\n",
    "    return 0;\n",
    "}\n",
    "\n",
    "int yywrap() {\n",
    "    return 1;\n",
    "}"
   ]
  },
  {
   "cell_type": "code",
   "execution_count": 120,
   "id": "b1a1e482-8ceb-4561-8b25-f0e59c336cba",
   "metadata": {},
   "outputs": [],
   "source": [
    "# %%\n",
    "# Regular expression matches single line comments\n",
    "# Matches single-line comments starting with // and followed by any characters except newline ([^\\n]*).\n",
    "# \\/\\/[^\\n]*                   \n",
    "\n",
    "# Regular expression matches multi-line comments\n",
    "# Matches multi-line comments starting with /* and ending with */, allowing for nested asterisks within the comment.\n",
    "# \\/\\*([^*]|\\*+[^*/])*\\*+\\/    \n",
    "\n",
    "# Ignore newline characters\n",
    "# \\n                          \n",
    "\n",
    "# Match any other input (invalid comments)\n",
    "# .*                           \n",
    "# %%"
   ]
  },
  {
   "cell_type": "code",
   "execution_count": 145,
   "id": "b5c53cf5-89e9-40d1-87d0-3d3556eedd12",
   "metadata": {},
   "outputs": [],
   "source": [
    "%%bash\n",
    "flex assignment01_q03.l\n",
    "gcc lex.yy.c "
   ]
  },
  {
   "cell_type": "code",
   "execution_count": 146,
   "id": "d565a234-b9c1-4040-8394-88f0cd7a07be",
   "metadata": {},
   "outputs": [
    {
     "name": "stdout",
     "output_type": "stream",
     "text": [
      "Single line comment: // This is a comment\n",
      "Multi-line comment: /* This is a multi line comment */\n",
      "Invalid input: / This is a wrong single line\n",
      "Invalid input: /* this is a wrong multiline comment //\n"
     ]
    }
   ],
   "source": [
    "%%bash\n",
    "./a.out\n",
    "// This is a comment\n",
    "/* This is a multi line comment */\n",
    "/ This is a wrong single line\n",
    "/* this is a wrong multiline comment //"
   ]
  },
  {
   "cell_type": "code",
   "execution_count": null,
   "id": "eba0f6d8-5489-4747-96b7-a1477a693561",
   "metadata": {},
   "outputs": [],
   "source": [
    "# Question 4 - Recognise email addresses"
   ]
  },
  {
   "cell_type": "code",
   "execution_count": 148,
   "id": "7e9eb9d2-3bcd-4a5a-a627-30ef4818080e",
   "metadata": {},
   "outputs": [
    {
     "name": "stdout",
     "output_type": "stream",
     "text": [
      "Overwriting assignment01_q04.l\n"
     ]
    }
   ],
   "source": [
    "%%file assignment01_q04.l\n",
    "/* assignment01_q04.l just like unix wc */\n",
    "\n",
    "%{\n",
    "#include <stdio.h>\n",
    "%}\n",
    "\n",
    "%%\n",
    "[a-zA-Z0-9_.-]+@[a-zA-Z0-9-]+\\.[a-zA-Z]{2,}    { printf(\"Valid email address: %s\\n\", yytext); }\n",
    ".*                                             { printf(\"Invalid input: %s\\n\", yytext); }\n",
    "\\n                                        \n",
    "%%\n",
    "\n",
    "int main(void) {\n",
    "    yylex();\n",
    "    return 0;\n",
    "}\n",
    "\n",
    "int yywrap() {\n",
    "    return 1;\n",
    "}"
   ]
  },
  {
   "cell_type": "code",
   "execution_count": 120,
   "id": "7af3cc53-c1c8-43c6-9021-634938611e91",
   "metadata": {},
   "outputs": [],
   "source": [
    "# %%\n",
    "# Regular expression matches valid email addresses\n",
    "# [a-zA-Z0-9_.-]+@[a-zA-Z0-9-]+\\.[a-zA-Z]{2,}  \n",
    "\n",
    "# [a-zA-Z0-9_.-]+ : Matches one or more letters, digits, underscores, dots, or hyphens for the username.\n",
    "# @ : Matches the \"@\" symbol.\n",
    "# [a-zA-Z0-9-]+ : Matches one or more letters, digits, or hyphens for the domain name.\n",
    "# \\. : Matches the literal dot.\n",
    "# [a-zA-Z]{2,} : Matches the domain suffix, which is composed of two or more letters.\n",
    "\n",
    "# Match any other input (invalid email addresses)\n",
    "# .*                            \n",
    "\n",
    "# Ignore newline characters\n",
    "# \\n                           \n",
    "# %%"
   ]
  },
  {
   "cell_type": "code",
   "execution_count": 149,
   "id": "9129a86d-acf7-42db-a18f-380d843c41b5",
   "metadata": {},
   "outputs": [],
   "source": [
    "%%bash\n",
    "flex assignment01_q04.l\n",
    "gcc lex.yy.c "
   ]
  },
  {
   "cell_type": "code",
   "execution_count": 151,
   "id": "65c9712b-ad1d-4d4b-b8d1-5063a6187012",
   "metadata": {},
   "outputs": [
    {
     "name": "stdout",
     "output_type": "stream",
     "text": [
      "Valid email address: nicola.tesla@dcelectic.com\n",
      "Valid email address: nicola_tesla@dc-electic.com\n",
      "Valid email address: nicola.tesla1856@dc-electic.com\n",
      "Invalid input: nicola.tesla1856@dc*electic.com\n"
     ]
    }
   ],
   "source": [
    "%%bash\n",
    "./a.out\n",
    "nicola.tesla@dcelectic.com\n",
    "nicola_tesla@dc-electic.com\n",
    "nicola.tesla1856@dc-electic.com\n",
    "nicola.tesla1856@dc*electic.com"
   ]
  },
  {
   "cell_type": "code",
   "execution_count": null,
   "id": "dc1256ec-98f6-4cc8-9dca-b58839443ace",
   "metadata": {},
   "outputs": [],
   "source": [
    "# Question 5 - Recognise Hexadecimal Numbers"
   ]
  },
  {
   "cell_type": "code",
   "execution_count": 152,
   "id": "139c023f-dcc4-419d-b358-7b20a8b42d88",
   "metadata": {},
   "outputs": [
    {
     "name": "stdout",
     "output_type": "stream",
     "text": [
      "Writing assignment01_q05.l\n"
     ]
    }
   ],
   "source": [
    "%%file assignment01_q05.l\n",
    "/* assignment01_q05.l just like unix wc */\n",
    "\n",
    "%{\n",
    "#include <stdio.h>\n",
    "%}\n",
    "\n",
    "%%\n",
    "0[xX][0-9a-fA-F]+   { printf(\"Valid hexadecimal number: %s\\n\", yytext); }\n",
    ".*                  { printf(\"Invalid input: %s\\n\", yytext); }\n",
    "\\n \n",
    "%%\n",
    "\n",
    "int main(void) {\n",
    "    yylex();\n",
    "    return 0;\n",
    "}\n",
    "\n",
    "int yywrap() {\n",
    "    return 1;\n",
    "}"
   ]
  },
  {
   "cell_type": "code",
   "execution_count": 156,
   "id": "1c218bb3-40f8-4ae3-a7ca-bba65767b034",
   "metadata": {},
   "outputs": [],
   "source": [
    "# %%\n",
    "# Regular expression matches hexadecimal numbers starting with \"0x\" or \"0X\" followed by hexadecimal digits\n",
    "# 0[xX][0-9a-fA-F]+   \n",
    "\n",
    "# Match any other input (invalid hexadecimal numbers)\n",
    "# .*                 \n",
    "\n",
    "# Ignore newline characters\n",
    "# \\n               \n",
    "# %%"
   ]
  },
  {
   "cell_type": "code",
   "execution_count": 157,
   "id": "8b768662-3d0c-4248-93d9-e8f2f6699289",
   "metadata": {},
   "outputs": [],
   "source": [
    "%%bash\n",
    "flex assignment01_q05.l\n",
    "gcc lex.yy.c "
   ]
  },
  {
   "cell_type": "code",
   "execution_count": 158,
   "id": "afc1ff7b-5c98-4826-9639-dad39342c3c4",
   "metadata": {},
   "outputs": [
    {
     "name": "stdout",
     "output_type": "stream",
     "text": [
      "Valid hexadecimal number: 0X3F\n",
      "Valid hexadecimal number: 0Xaf\n",
      "Valid hexadecimal number: 0x13\n",
      "Valid hexadecimal number: 0x9ADF\n",
      "Invalid input: 0X0GAf\n",
      "Invalid input: 0x87AZ\n"
     ]
    }
   ],
   "source": [
    "%%bash\n",
    "./a.out\n",
    "0X3F\n",
    "0Xaf\n",
    "0x13\n",
    "0x9ADF\n",
    "0X0GAf\n",
    "0x87AZ"
   ]
  },
  {
   "cell_type": "code",
   "execution_count": null,
   "id": "9052b62a-cd9d-4d42-a860-df88be049d37",
   "metadata": {},
   "outputs": [],
   "source": [
    "# Question 6 - Recognise Date Formats"
   ]
  },
  {
   "cell_type": "code",
   "execution_count": 160,
   "id": "055327da-4a0b-49b1-bf8f-9a154928a246",
   "metadata": {},
   "outputs": [
    {
     "name": "stdout",
     "output_type": "stream",
     "text": [
      "Writing assignment01_q06.l\n"
     ]
    }
   ],
   "source": [
    "%%file assignment01_q06.l\n",
    "/* assignment01_q05.l just like unix wc */\n",
    "\n",
    "%{\n",
    "#include <stdio.h>\n",
    "%}\n",
    "\n",
    "%%\n",
    "(0[1-9]|[12][0-9]|3[01])-(0[1-9]|1[0-2])-[0-9]{4}   { printf(\"Valid date: %s\\n\", yytext); }\n",
    ".*                                                  { printf(\"Invalid input: %s\\n\", yytext); }\n",
    "\\n \n",
    "%%\n",
    "\n",
    "int main(void) {\n",
    "    yylex();\n",
    "    return 0;\n",
    "}\n",
    "\n",
    "int yywrap() {\n",
    "    return 1;\n",
    "}"
   ]
  },
  {
   "cell_type": "code",
   "execution_count": 164,
   "id": "ab2192b7-8a3a-4dc4-a6ec-56d2a481bf8a",
   "metadata": {},
   "outputs": [],
   "source": [
    "# %%\n",
    "# Regular expression matches valid dates in DD-MM-YYYY format\n",
    "# (0[1-9]|[12][0-9]|3[01])-(0[1-9]|1[0-2])-[0-9]{4}   \n",
    "\n",
    "# (0[1-9]|[12][0-9]|3[01]): Matches valid days:\n",
    "#     0[1-9]: Matches days 01 to 09.\n",
    "#     [12][0-9]: Matches days 10 to 29.\n",
    "#     3[01]: Matches days 30 and 31.\n",
    "\n",
    "# (0[1-9]|1[0-2])-: Matches valid months:\n",
    "#     0[1-9]: Matches months 01 to 09.\n",
    "#     1[0-2]: Matches months 10 to 12.\n",
    "\n",
    "# [0-9]{4}: Matches a four-digit year.\n",
    "\n",
    "# Match any other input (invalid dates)\n",
    "# .*                                           \n",
    "\n",
    "# Ignore newline characters\n",
    "# \\n                                          \n",
    "# %%"
   ]
  },
  {
   "cell_type": "code",
   "execution_count": 161,
   "id": "9090cd10-b178-4fd7-b46c-f9a66eccc447",
   "metadata": {},
   "outputs": [],
   "source": [
    "%%bash\n",
    "flex assignment01_q06.l\n",
    "gcc lex.yy.c "
   ]
  },
  {
   "cell_type": "code",
   "execution_count": 162,
   "id": "7fa4ea4a-72a6-4ec5-8d2e-5db13bc7f795",
   "metadata": {},
   "outputs": [
    {
     "name": "stdout",
     "output_type": "stream",
     "text": [
      "Valid date: 16-06-1970\n",
      "Valid date: 31-12-1999\n",
      "Valid date: 01-12-0999\n",
      "Invalid input: 01-13-2000\n",
      "Invalid input: 01-00-2000\n",
      "Invalid input: 00-12-2000\n",
      "Invalid input: 32-12-2000\n"
     ]
    }
   ],
   "source": [
    "%%bash\n",
    "./a.out\n",
    "16-06-1970\n",
    "31-12-1999\n",
    "01-12-0999\n",
    "01-13-2000\n",
    "01-00-2000\n",
    "00-12-2000\n",
    "32-12-2000"
   ]
  },
  {
   "cell_type": "code",
   "execution_count": null,
   "id": "9a4e60a1-0f4f-45a7-958f-58a08f4d859f",
   "metadata": {},
   "outputs": [],
   "source": [
    "# Question 7 - Recognise HTML formats"
   ]
  },
  {
   "cell_type": "code",
   "execution_count": 169,
   "id": "17862fcc-c250-4cae-8fca-04a3b52525f6",
   "metadata": {},
   "outputs": [
    {
     "name": "stdout",
     "output_type": "stream",
     "text": [
      "Overwriting assignment01_q07.l\n"
     ]
    }
   ],
   "source": [
    "%%file assignment01_q07.l\n",
    "/* assignment01_q05.l just like unix wc */\n",
    "\n",
    "%{\n",
    "#include <stdio.h>\n",
    "%}\n",
    "\n",
    "%%\n",
    "\\<[a-zA-Z0-9_]+[^>]*\\>      { printf(\"Opening tag: %s\\n\", yytext); }\n",
    "\\<\\/[a-zA-Z0-9_]+\\>         { printf(\"Closing tag: %s\\n\", yytext); }\n",
    "\\<!--(.|\\n)*?--\\>           { printf(\"Comment: %s\\n\", yytext); }\n",
    ".|\\n                        \n",
    "%%\n",
    "\n",
    "int main(void) {\n",
    "    yylex();\n",
    "    return 0;\n",
    "}\n",
    "\n",
    "int yywrap() {\n",
    "    return 1;\n",
    "}"
   ]
  },
  {
   "cell_type": "code",
   "execution_count": 172,
   "id": "118547e7-7d5f-4601-a221-cef6ecbb6ffb",
   "metadata": {},
   "outputs": [],
   "source": [
    "# %%\n",
    "# Regular expression to recognize opening tags\n",
    "# \\<[a-zA-Z0-9_]+[^>]*\\>     \n",
    "\n",
    "# Regular expression to recognize closing tags\n",
    "# \\<\\/[a-zA-Z0-9_]+\\>        \n",
    "\n",
    "# Regular expression to recognize comments\n",
    "# \\<!--(.|\\n)*?--\\>          \n",
    "\n",
    "# Ignore everything else\n",
    "# .|\\n                       \n",
    "# %%"
   ]
  },
  {
   "cell_type": "code",
   "execution_count": 173,
   "id": "727e80cc-c5dd-4b4e-9918-4df0f708467e",
   "metadata": {},
   "outputs": [],
   "source": [
    "%%bash\n",
    "flex assignment01_q07.l\n",
    "gcc lex.yy.c "
   ]
  },
  {
   "cell_type": "code",
   "execution_count": 174,
   "id": "081ab992-451f-4019-b8b6-d981c128716a",
   "metadata": {},
   "outputs": [
    {
     "name": "stdout",
     "output_type": "stream",
     "text": [
      "Opening tag: <HTML>\n",
      "Opening tag: <script>\n",
      "Opening tag: <div class=\"container\">\n",
      "Opening tag: <script>\n",
      "Opening tag: <script>\n",
      "Closing tag: </script>\n",
      "Closing tag: </script>\n",
      "Opening tag: <div class=\"container\">\n",
      "Comment: <!-- <img src=\"cat.jpg\" alt=\"big cat\" > -->\n",
      "Closing tag: </div>\n",
      "Closing tag: </HTML>\n"
     ]
    }
   ],
   "source": [
    "%%bash\n",
    "./a.out\n",
    "<HTML>\n",
    "<script>\n",
    "<div class=\"container\">\n",
    "<script>\n",
    " const myString = \"<script></script>\"\n",
    "</script>\n",
    "<div class=\"container\">\n",
    " <!-- <img src=\"cat.jpg\" alt=\"big cat\" > -->\n",
    "</div>\n",
    "</HTML>"
   ]
  },
  {
   "cell_type": "code",
   "execution_count": null,
   "id": "60534b71-c418-4e0f-9c7b-cebba413eb7c",
   "metadata": {},
   "outputs": [],
   "source": [
    "# Question 8 - Recognise URLs"
   ]
  },
  {
   "cell_type": "code",
   "execution_count": 177,
   "id": "9811eebc-7281-4bf0-9f86-769e878475d6",
   "metadata": {},
   "outputs": [
    {
     "name": "stdout",
     "output_type": "stream",
     "text": [
      "Overwriting assignment01_q08.l\n"
     ]
    }
   ],
   "source": [
    "%%file assignment01_q08.l\n",
    "/* assignment01_q05.l just like unix wc */\n",
    "\n",
    "%{\n",
    "#include <stdio.h>\n",
    "%}\n",
    "\n",
    "%%\n",
    "^(http|https):\\/\\/[a-zA-Z0-9.-]+(:[0-9]+)?(\\/[a-zA-Z0-9._/-]*)?$    { printf(\"Valid URL: %s\\n\", yytext); }\n",
    ".*                                                                  { printf(\"Invalid input: %s\\n\", yytext); }\n",
    "\\n\n",
    "%%\n",
    "\n",
    "int main(void) {\n",
    "    yylex();\n",
    "    return 0;\n",
    "}\n",
    "\n",
    "int yywrap() {\n",
    "    return 1;\n",
    "}"
   ]
  },
  {
   "cell_type": "code",
   "execution_count": 180,
   "id": "19b1a3b6-0cfd-423a-95bc-d9938a369e5c",
   "metadata": {},
   "outputs": [],
   "source": [
    "# %%\n",
    "# Regular expression to recognize URLs with optional port number and path\n",
    "# ^(http|https):\\/\\/[a-zA-Z0-9.-]+(:[0-9]+)?(\\/[a-zA-Z0-9._/-]*)?$ \n",
    "\n",
    "# ^(http|https): Matches the start of the line with \"http\" or \"https\".\n",
    "# :\\/\\/: Matches the \"://\" separator.\n",
    "# [a-zA-Z0-9.-]+: Matches letters, digits, dots, or hyphens for the domain name.\n",
    "# (:[0-9]+)?: Optionally matches a colon followed by one or more digits for the port number.\n",
    "# (\\/[a-zA-Z0-9._/-]*)?$: Optionally matches a slash followed by letters, digits, dots, underscores, slashes, or hyphens for the path.\n",
    "\n",
    "# Ignore newline characters\n",
    "# \\n                            \n",
    "# Match any other input (invalid URLs)\n",
    "# .*                             \n",
    "# %%"
   ]
  },
  {
   "cell_type": "code",
   "execution_count": 178,
   "id": "95ccdfe0-d15d-49cd-93ae-e14f9f192f03",
   "metadata": {},
   "outputs": [],
   "source": [
    "%%bash\n",
    "flex assignment01_q08.l\n",
    "gcc lex.yy.c "
   ]
  },
  {
   "cell_type": "code",
   "execution_count": 179,
   "id": "d7b2eae8-dca8-4cdd-b91f-4febbe47ad6e",
   "metadata": {},
   "outputs": [
    {
     "name": "stdout",
     "output_type": "stream",
     "text": [
      "Valid URL: http://google.com\n",
      "Valid URL: https://google.com:6060\n",
      "Valid URL: https://google.com:6060/gemini\n"
     ]
    }
   ],
   "source": [
    "%%bash\n",
    "./a.out\n",
    "http://google.com\n",
    "https://google.com:6060\n",
    "https://google.com:6060/gemini"
   ]
  },
  {
   "cell_type": "code",
   "execution_count": null,
   "id": "8925189d-fa7a-463b-b51b-cebf034a0058",
   "metadata": {},
   "outputs": [],
   "source": []
  }
 ],
 "metadata": {
  "kernelspec": {
   "display_name": "Python 3 (ipykernel)",
   "language": "python",
   "name": "python3"
  },
  "language_info": {
   "codemirror_mode": {
    "name": "ipython",
    "version": 3
   },
   "file_extension": ".py",
   "mimetype": "text/x-python",
   "name": "python",
   "nbconvert_exporter": "python",
   "pygments_lexer": "ipython3",
   "version": "3.10.12"
  }
 },
 "nbformat": 4,
 "nbformat_minor": 5
}
